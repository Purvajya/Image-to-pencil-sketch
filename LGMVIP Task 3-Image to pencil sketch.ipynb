{
 "cells": [
  {
   "cell_type": "markdown",
   "id": "7f2ebf8a",
   "metadata": {},
   "source": [
    "- # LGMVIP - Data Science Intern\n",
    "- # Task 3: Image to Pencil Sketch with Python\n",
    "- # Submitted by: Purvajya Vilas Gawarshettiwar\n"
   ]
  },
  {
   "cell_type": "markdown",
   "id": "4aa40f82",
   "metadata": {},
   "source": [
    "- # import the library"
   ]
  },
  {
   "cell_type": "code",
   "execution_count": 1,
   "id": "1a575a9e",
   "metadata": {},
   "outputs": [],
   "source": [
    "import cv2"
   ]
  },
  {
   "cell_type": "markdown",
   "id": "d269e7fd",
   "metadata": {},
   "source": [
    "- # get the image location and the image file name"
   ]
  },
  {
   "cell_type": "code",
   "execution_count": 2,
   "id": "56a2f986",
   "metadata": {},
   "outputs": [],
   "source": [
    "img_location = 'E:/Internships/Image To Pencil sketch/'"
   ]
  },
  {
   "cell_type": "code",
   "execution_count": 3,
   "id": "fe85636a",
   "metadata": {},
   "outputs": [],
   "source": [
    "filename = 'img2.jpg'"
   ]
  },
  {
   "cell_type": "markdown",
   "id": "bba49661",
   "metadata": {},
   "source": [
    "- # read in the image"
   ]
  },
  {
   "cell_type": "code",
   "execution_count": 4,
   "id": "ec631e1a",
   "metadata": {},
   "outputs": [],
   "source": [
    "img = cv2.imread(img_location+filename)"
   ]
  },
  {
   "cell_type": "markdown",
   "id": "ddeb8f15",
   "metadata": {},
   "source": [
    "- # convert the image to gray scale"
   ]
  },
  {
   "cell_type": "code",
   "execution_count": 5,
   "id": "d780db10",
   "metadata": {},
   "outputs": [],
   "source": [
    "gray_image = cv2.cvtColor(img, cv2.COLOR_BGR2GRAY)"
   ]
  },
  {
   "cell_type": "markdown",
   "id": "fdd03664",
   "metadata": {},
   "source": [
    "- # invert the image"
   ]
  },
  {
   "cell_type": "code",
   "execution_count": 6,
   "id": "7be11516",
   "metadata": {},
   "outputs": [],
   "source": [
    "inverted_gray_image = 255 - gray_image"
   ]
  },
  {
   "cell_type": "markdown",
   "id": "267ebd53",
   "metadata": {},
   "source": [
    "- # blur the image by gaussian blur"
   ]
  },
  {
   "cell_type": "code",
   "execution_count": 7,
   "id": "1dfa1d0f",
   "metadata": {},
   "outputs": [],
   "source": [
    "blurred_image = cv2.GaussianBlur(inverted_gray_image, (21, 21), 0)"
   ]
  },
  {
   "cell_type": "markdown",
   "id": "23201cd8",
   "metadata": {},
   "source": [
    "- # invert the blurred image"
   ]
  },
  {
   "cell_type": "code",
   "execution_count": 8,
   "id": "6bd965bf",
   "metadata": {},
   "outputs": [],
   "source": [
    "inverted_blurred_image = 255 - blurred_image"
   ]
  },
  {
   "cell_type": "markdown",
   "id": "11eb8682",
   "metadata": {},
   "source": [
    "- # create the pencil sketch image"
   ]
  },
  {
   "cell_type": "code",
   "execution_count": 9,
   "id": "07430052",
   "metadata": {},
   "outputs": [],
   "source": [
    "pencil_sketch_image = cv2.divide(gray_image, inverted_blurred_image, scale = 256.0)"
   ]
  },
  {
   "cell_type": "markdown",
   "id": "1d0208f8",
   "metadata": {},
   "source": [
    "- # show the image"
   ]
  },
  {
   "cell_type": "code",
   "execution_count": 10,
   "id": "342b9139",
   "metadata": {},
   "outputs": [],
   "source": [
    "cv2.imshow('Original Image', img)"
   ]
  },
  {
   "cell_type": "code",
   "execution_count": 11,
   "id": "2e3fe818",
   "metadata": {},
   "outputs": [],
   "source": [
    "cv2.imshow('New Image', pencil_sketch_image)"
   ]
  },
  {
   "cell_type": "code",
   "execution_count": 12,
   "id": "841d71dc",
   "metadata": {},
   "outputs": [
    {
     "data": {
      "text/plain": [
       "-1"
      ]
     },
     "execution_count": 12,
     "metadata": {},
     "output_type": "execute_result"
    }
   ],
   "source": [
    "cv2.waitKey(0)"
   ]
  },
  {
   "cell_type": "code",
   "execution_count": null,
   "id": "2d5210ed",
   "metadata": {},
   "outputs": [],
   "source": []
  }
 ],
 "metadata": {
  "kernelspec": {
   "display_name": "Python 3",
   "language": "python",
   "name": "python3"
  },
  "language_info": {
   "codemirror_mode": {
    "name": "ipython",
    "version": 3
   },
   "file_extension": ".py",
   "mimetype": "text/x-python",
   "name": "python",
   "nbconvert_exporter": "python",
   "pygments_lexer": "ipython3",
   "version": "3.8.8"
  }
 },
 "nbformat": 4,
 "nbformat_minor": 5
}
